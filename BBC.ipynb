{
 "cells": [
  {
   "cell_type": "markdown",
   "metadata": {},
   "source": [
    "# Script to build barcodes"
   ]
  },
  {
   "cell_type": "markdown",
   "metadata": {},
   "source": [
    "### Import :   "
   ]
  },
  {
   "cell_type": "code",
   "execution_count": 1,
   "metadata": {},
   "outputs": [],
   "source": [
    "import csv\n",
    "import pandas as pd\n",
    "import matplotlib.pyplot as plt\n",
    "import seaborn as sns\n",
    "import numpy as np\n",
    "import sys\n",
    "import os"
   ]
  },
  {
   "cell_type": "code",
   "execution_count": 2,
   "metadata": {},
   "outputs": [],
   "source": [
    "from matplotlib.ticker import MultipleLocator, FormatStrFormatter\n",
    "plt.rcParams['figure.dpi'] = 150"
   ]
  },
  {
   "cell_type": "code",
   "execution_count": 33,
   "metadata": {},
   "outputs": [],
   "source": [
    "win_nucl = []\n",
    "\n",
    "for i in range (1,27802, 50) : # TO DO : change the step for the lenght of your alignement \n",
    "    nucl_deb = i\n",
    "    if nucl_deb == 27801 :\n",
    "        nucl_fin = 28845\n",
    "    else : \n",
    "        nucl_fin = nucl_deb + 999\n",
    "    win_nucl.append((nucl_deb,nucl_fin))"
   ]
  },
  {
   "cell_type": "markdown",
   "metadata": {},
   "source": [
    "### Data"
   ]
  },
  {
   "cell_type": "code",
   "execution_count": 4,
   "metadata": {},
   "outputs": [],
   "source": [
    "data = pd.read_csv('sup50_1000_56.csv') # TO DO : insert the ame of csv file with your data"
   ]
  },
  {
   "cell_type": "markdown",
   "metadata": {},
   "source": [
    "### Name corresponding "
   ]
  },
  {
   "cell_type": "code",
   "execution_count": 6,
   "metadata": {},
   "outputs": [],
   "source": [
    "dicoco = {'AA + AB + BA + BB + BC + BD + BE + BF + BG + BH + BI + BJ + BK + BL + BM + BN + BO + BP + BQ + BR + BS + BT + BU + BV + BW + BX + BY + BZ + CA + CB + CC + CD + CE + CF + CG + CH + CI + CJ + CK + CL + DA + DD + DE + DF + DG + DH + DI + DJ + DK + DL + DM + DN + EA + EB + EC + ED' : 1,\n",
    " 'DF + DG':2,\n",
    " 'EA + EB + EC + ED':3,\n",
    " 'EA + EB':4,\n",
    " 'EC + ED':5,\n",
    " 'CK + CL':6,\n",
    " 'BX + BZ':7,\n",
    " 'BA + BB + BC + BD + BE + BF + BG + BH + BI + BJ + BK + BL + BM + BN + BO + BP + BQ + BR + BS + BT + BU + BV + BW + BX + BY + BZ + CA + CB + CC + CD + CE + CF + CG + CH + CI + CJ + CK + CL':8,\n",
    " 'DH + DJ':9,\n",
    " 'DE + DI + DK + DL + DM + DN':10,\n",
    " 'DE + DF + DG + DH + DI + DJ + DK + DL + DM + DN':11,\n",
    " 'DE + DK + DL + DM + DN':12,\n",
    " 'BA + BB + BC + BD + BE + BF + BG + BH + BI + BJ + BK + BL + BM + BN + BO + BP + BQ + BR + BS + BT + BU + BV + BW + BX + BY + BZ + CA + CB + CC + CD + CE + CF + CG + CH + CI + CJ + CK + CL + DA + DD + DE + DF + DG + DH + DI + DJ + DK + DL + DM + DN':13,\n",
    " 'DI + DM':14,\n",
    " 'CG + CH':15,\n",
    " 'DE + DF + DG + DI + DK + DL + DM + DN':16,\n",
    " 'DE + DK + DL':17,\n",
    " 'BW + BX + BY + BZ + CA':18,\n",
    " 'DK + DL':19,\n",
    " 'DE + DH + DI + DJ + DK + DL + DM + DN':20,\n",
    " 'DK + DN':21,\n",
    " 'BA + BB + BC + BD + BE + BF + BG + BH + BI + BJ + BK + BL + BM + BN + BO + BP + BQ + BR + BS + BT + BU + BV + BW + BX + BY + BZ + CA + CB + CC + CD + CE + CF + CG + CH + CI + CJ + CK + CL + DA + DD + DE + DF + DG + DH + DI + DJ + DK + DL + DM + DN + EA + EB + EC + ED':22,\n",
    " 'DE + DK':23,\n",
    " 'CJ + CK + CL':24,\n",
    " 'DE + DK + DL + DN':25,\n",
    " 'CI + CJ':26,\n",
    " 'DK + DL + DN':27,\n",
    " 'DI + DK + DL + DM + DN':28,\n",
    " 'BW + BY + CA':29,\n",
    " 'DL + DN':30,\n",
    " 'BG + BQ':31,\n",
    " 'BW + BY':32,\n",
    " 'BB + BL':33,\n",
    " 'BD + BS':34,\n",
    " 'DK + DL + DM + DN':35,\n",
    " 'BG + BH':36,\n",
    " 'DA + DD + DE + DF + DG + DH + DI + DJ + DK + DL + DM + DN':37,\n",
    " 'CJ + CL':38,\n",
    " 'DE + DI + DJ + DK + DL + DM + DN':39,\n",
    " 'BQ + BS':40,\n",
    " 'BP + BR':41,\n",
    " 'CI + CJ + CK + CL':42,\n",
    " 'CI + CK + CL':43,\n",
    " 'DD + EA + EB + EC + ED':44,\n",
    " 'DE + DF + DG':45,\n",
    " 'BW + CA':46,\n",
    " 'BC + BF':47,\n",
    " 'BC + BR':48,\n",
    " 'BK + BL':49,\n",
    " 'BX + BY + BZ':50,\n",
    " 'CJ + CK':51,\n",
    " 'CF + CG + CH':52,\n",
    " 'CF + CH':53,\n",
    " 'DE + DF + DG + DI + DJ + DK + DL + DM + DN':54,\n",
    " 'DA + EA + EB + EC + ED':55,\n",
    " 'BX + BY':56,\n",
    " 'BW + BZ':57,\n",
    " 'BQ + BR':58,\n",
    " 'BW + BX + BY + BZ':59,\n",
    " 'BB + BE':60,\n",
    " 'DD + DE + DF + DG + DH + DI + DJ + DK + DL + DM + DN':61,\n",
    " 'BY + BZ':62,\n",
    " 'BH + BS':63,\n",
    " 'DH + DI + DJ + DK + DL + DM + DN':64,\n",
    " 'DJ + DK':65,\n",
    " 'BG + BS':66,\n",
    " 'DE + DF + DG + DL':67,\n",
    " 'CB + CE':68,\n",
    " 'DD + DE + DF + DG + DH + DI + DJ + DK + DL + DM + DN + EA + EB + EC + ED':69,\n",
    " 'BW + BY + BZ':70,\n",
    " 'BV + CF + CG + CH':71,\n",
    " 'BN + BO':72,\n",
    " 'BB + BE + BL':73,\n",
    " 'BI + BT':74,\n",
    " 'DI + DJ + DK + DL + DM + DN':75,\n",
    " 'DM + DN':76,\n",
    " 'BO + BP':77,\n",
    " 'BE + BF':78,\n",
    " 'BW + BX + BY':79,\n",
    " 'DA + DD + DE + DF + DG + DH + DI + DJ + DK + DL + DM + DN + EA + EB + EC + ED':80,\n",
    " 'BL + BN':81,\n",
    " 'BD + BH + BS':82,\n",
    " 'DI + DJ':83,\n",
    " 'DA + DD + DH + DI + DJ + DK + DL + DM + DN + EA + EB + EC + ED':84,\n",
    " 'BF + BN':85,\n",
    " 'BA + BB + BC + BD + BE + BF + BG + BH + BI + BJ + BK + BL + BM + BN + BO + BP + BQ + BR + BS + BT + BU + BV + BW + BX + BY + BZ + CA + CB + CC + CD + CE + CF + CG + CH + CI + CJ + CK + CL + DE + DF + DG':86,\n",
    " 'DD + DH':87,\n",
    " 'DH + DI':88,\n",
    " 'DD + DH + DI + DJ + DK + DL + DM + DN + EA + EB + EC + ED':89,\n",
    " 'DH + EA + EB + EC + ED':90,\n",
    " 'CC + CD':91,\n",
    " 'CB + CC + CD + CE':92,\n",
    " 'CB + CC + CD':93,\n",
    " 'DH + DI + DJ + DK + DL + DM + DN + EA + EB + EC + ED':94,\n",
    " 'BJ + BT':95,\n",
    " 'CE + CF + CG + CH':96,\n",
    " 'BA + BB + BC + BD + BE + BF + BG + BH + BI + BJ + BK + BL + BM + BN + BO + BP + BQ + BR + BS + BT + BU + BV + BW + BX + BY + BZ + CA':97,\n",
    " 'BM + BV':98,\n",
    " 'BB + BC + BD + BE + BF + BG + BH + BI + BJ + BK + BL + BM + BN + BO + BP + BQ + BR + BS + BT + BU + BV + BW + BX + BY + BZ + CA':99,\n",
    " 'BA + CE + CF + CG + CH':100,\n",
    " 'CI + DF + DG':101,\n",
    " 'CI + DG':102,\n",
    " 'BN + BO + BP':103,\n",
    " 'BV + CA':104,\n",
    " 'DI + DJ + DK + DL + DM + DN + EA + EB + EC + ED':105,\n",
    " 'BL + BN + BO + BP':106,\n",
    " 'BA + BB + BC + BD + BE + BF + BG + BH + BI + BJ + BK + BL + BM + BN + BO + BP + BQ + BR + BS + BT + BU + BV + CA':107,\n",
    " 'BU + CA':108,\n",
    " 'CI + CJ + CK + CL + DF + DG':109,\n",
    " 'CI + CJ + CK + CL + DG':110,\n",
    " 'BK + BL + BM + BN + BO + BP + BQ + BR + BS':111}"
   ]
  },
  {
   "cell_type": "markdown",
   "metadata": {},
   "source": [
    "### Stock into list bootstrap value per windows"
   ]
  },
  {
   "cell_type": "code",
   "execution_count": 29,
   "metadata": {},
   "outputs": [
    {
     "name": "stdout",
     "output_type": "stream",
     "text": [
      "111\n",
      "557\n"
     ]
    }
   ],
   "source": [
    "#----------------CALCULS-----------------\n",
    "\n",
    "win_nucl =[]\n",
    "i_deb = 1\n",
    "i_fin = 1000 # TO DO : insert the size of the windows \n",
    "pas = 50\n",
    "for i in range(1,558): # TO DO : insert the number of windows \n",
    "    win_nucl.append((i_deb,i_fin))\n",
    "    i_deb = i_deb + pas\n",
    "    i_fin = i_fin + pas\n",
    "    \n",
    "\n",
    "l_row_csv = []\n",
    "l_col_csv =[]\n",
    "\n",
    "data_tolist = data.values.tolist()\n",
    "\n",
    "for x in range(0,111): # TO DO : insert the number of rows in your data\n",
    "    l_col_csv =[]\n",
    "    for i,j in zip(win_nucl,data_tolist[x][2:]):\n",
    "        l_col_csv.append((i,j))\n",
    "    l_row_csv.append(l_col_csv)\n",
    "    \n",
    "print(len(l_row_csv))\n",
    "print(len(l_row_csv[0]))\n",
    "\n",
    "#----------------FIN CALCULS-----------------"
   ]
  },
  {
   "cell_type": "markdown",
   "metadata": {},
   "source": [
    "### Set the color of the boostrap values"
   ]
  },
  {
   "cell_type": "code",
   "execution_count": 8,
   "metadata": {},
   "outputs": [],
   "source": [
    "#----------------FONCTION LIMITES-----------------\n",
    "\n",
    "def limites(x):\n",
    "    if x < 30:\n",
    "        return \"red\"\n",
    "    \n",
    "    if x > 70:\n",
    "        return \"green\"\n",
    "    \n",
    "    return \"grey\"\n",
    "\n",
    "#----------------FIN FONCTION LIMITES-----------------"
   ]
  },
  {
   "cell_type": "markdown",
   "metadata": {},
   "source": [
    "### Plot"
   ]
  },
  {
   "cell_type": "code",
   "execution_count": null,
   "metadata": {},
   "outputs": [],
   "source": [
    "fig, ax = plt.subplots()\n",
    "plt.xlim(1,28800)\n",
    "plt.ylim(0,1)\n",
    "plt.subplots_adjust(top = 0.3)\n",
    "ax.set_yticklabels([])\n",
    "ax.set_xticks([1, 3], minor = True)\n",
    "ax.xaxis.set_major_locator(MultipleLocator(4000))\n",
    "\n",
    "for i in range(len(l_row_csv)+1) :\n",
    "    for el in l_row_csv[i]:     \n",
    "        ax.plot()\n",
    "        col = limites(el[1])\n",
    "        ax.axvspan(el[0][0], el[0][1]+1, alpha=0.5, color= col)\n",
    "\n",
    "    jpp = data[\"Names\"][i]\n",
    "    #print(jpp)\n",
    "    plt.title(str(dicoco[jpp]))        \n",
    "    plt.savefig(\"C:/Users/opale/Desktop/stage/CB_56/CB_1000/CB_\"+str(dicoco[jpp])+\".png\") # TO DO : insert where you want to save the plots\n",
    "\n",
    "\n",
    "\n",
    "plt.show()"
   ]
  }
 ],
 "metadata": {
  "kernelspec": {
   "display_name": "Python 3",
   "language": "python",
   "name": "python3"
  },
  "language_info": {
   "codemirror_mode": {
    "name": "ipython",
    "version": 3
   },
   "file_extension": ".py",
   "mimetype": "text/x-python",
   "name": "python",
   "nbconvert_exporter": "python",
   "pygments_lexer": "ipython3",
   "version": "3.7.3"
  }
 },
 "nbformat": 4,
 "nbformat_minor": 4
}
